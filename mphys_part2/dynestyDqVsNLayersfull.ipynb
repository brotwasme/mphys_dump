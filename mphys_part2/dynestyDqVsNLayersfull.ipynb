{
 "cells": [
  {
   "cell_type": "markdown",
   "metadata": {},
   "source": [
    "Contour plot of ln(evidence) for loss against number of layers\\\n",
    "for limited and not limited thickness"
   ]
  },
  {
   "cell_type": "markdown",
   "metadata": {},
   "source": [
    "for below has no limit on max thickness\\\n",
    "above has a limits of punishishing the fitting of total thickness > 350 (for the varying slabs)"
   ]
  },
  {
   "cell_type": "code",
   "execution_count": 1,
   "metadata": {},
   "outputs": [
    {
     "name": "stdout",
     "output_type": "stream",
     "text": [
      "refnx: 0.1.9\n",
      "scipy: 1.3.0\n",
      "numpy: 1.16.4\n",
      "refnx: 0.1.9\n",
      "scipy: 1.3.0\n",
      "numpy: 1.16.4\n"
     ]
    }
   ],
   "source": [
    "import os.path\n",
    "import numpy as np\n",
    "import matplotlib.pyplot as plt\n",
    "import scipy\n",
    "import refnx\n",
    "from refnx.dataset import ReflectDataset, Data1D\n",
    "from refnx.analysis import Transform, CurveFitter, Objective, Model, Parameter\n",
    "from refnx.reflect import SLD, Slab, ReflectModel\n",
    "from sepObjective import getObjective as gO\n",
    "from dynesty import DynamicNestedSampler\n",
    "from dynesty import plotting as dyplot\n",
    "from CFitter2 import CFitter\n",
    "import make_sim_data as msd\n",
    "print('refnx: %s\\nscipy: %s\\nnumpy: %s' % (refnx.version.version,\n",
    "                   scipy.version.version, np.version.version))\n",
    "%matplotlib inline\n",
    "#%matplotlib noteboo"
   ]
  },
  {
   "cell_type": "code",
   "execution_count": 2,
   "metadata": {},
   "outputs": [],
   "source": [
    "maxLength = 350\n",
    "def logp_extra(model, data=None):\n",
    "    returns = 0\n",
    "    if sum(model.structure.slabs()[1:-1,0])>maxLength:\n",
    "        returns = -np.inf\n",
    "    return returns"
   ]
  },
  {
   "cell_type": "code",
   "execution_count": 3,
   "metadata": {},
   "outputs": [
    {
     "name": "stdout",
     "output_type": "stream",
     "text": [
      "done\n"
     ]
    }
   ],
   "source": [
    "\n",
    "# simple structure\n",
    "thicks_true = [10,120,100,130,10]\n",
    "bs_true = [0,5,4.5,5,10]\n",
    "roughs_true = [0,0,0,0,0]\n",
    "# bs = [5,4.5,5]\n",
    "# thicks = [120,100,130]\n",
    "# roughs = [0,0,0]\n",
    "bs = bs_true\n",
    "thicks = thicks_true\n",
    "roughs = roughs_true\n",
    "loss = 1.\n",
    "no_layers = len(bs)\n",
    "no_layers = len(bs_true)\n",
    "# no_layers = 3\n",
    "layers = []\n",
    "names = []\n",
    "#names = ['layer1','layer2']\n",
    "for i in range(no_layers):\n",
    "    names.append('layer'+str(i))\n",
    "for i in range(no_layers):\n",
    "        sld = SLD(bs[i],name=names[i])\n",
    "        layers.append(sld(thicks[i],roughs[i]))\n",
    "structure = layers[0]\n",
    "for layer in layers[1:]:\n",
    "    structure|=layer\n",
    "print(\"done\")"
   ]
  },
  {
   "cell_type": "code",
   "execution_count": 4,
   "metadata": {
    "scrolled": true
   },
   "outputs": [
    {
     "name": "stdout",
     "output_type": "stream",
     "text": [
      "done\n"
     ]
    },
    {
     "data": {
      "image/png": "[encoded data removed]",
      "text/plain": [
       "<Figure size 432x288 with 1 Axes>"
      ]
     },
     "metadata": {
      "needs_background": "light"
     },
     "output_type": "display_data"
    }
   ],
   "source": [
    "%matplotlib inline\n",
    "figI = 0\n",
    "# plt.figure(figI)\n",
    "# figI+=1\n",
    "plt.plot(*structure.sld_profile())\n",
    "plt.ylabel('SLD /$10^{-6} \\AA^{-2}$')\n",
    "plt.xlabel('distance / $\\AA$');\n",
    "print(\"done\")"
   ]
  },
  {
   "cell_type": "code",
   "execution_count": 5,
   "metadata": {},
   "outputs": [],
   "source": [
    "resolution = 5.\n",
    "model = ReflectModel(structure, bkg=3e-6, dq=resolution)"
   ]
  },
  {
   "cell_type": "code",
   "execution_count": 6,
   "metadata": {
    "scrolled": true
   },
   "outputs": [
    {
     "name": "stdout",
     "output_type": "stream",
     "text": [
      "csv\n",
      "cvs-collecting\n",
      "out  [3.47819830e+02 8.77904741e+01 3.20810699e+03 9.49732939e-37\n",
      " 1.65307010e-05] \n",
      "var:  [[1.76447440e+01 1.39762075e+02 1.90993913e+00 2.55098590e+04\n",
      "  6.99628049e-05]\n",
      " [1.39762075e+02 1.10704093e+03 1.51284720e+01 2.01610925e+05\n",
      "  5.54070662e-04]\n",
      " [1.90993913e+00 1.51284720e+01 2.06742813e-01 2.73481708e+03\n",
      "  7.56735044e-06]\n",
      " [2.55098590e+04 2.01610925e+05 2.73481708e+03 2.55670288e+08\n",
      "  1.48331018e-01]\n",
      " [6.99628049e-05 5.54070662e-04 7.56735044e-06 1.48331018e-01\n",
      "  2.92147690e-10]]\n"
     ]
    },
    {
     "name": "stderr",
     "output_type": "stream",
     "text": [
      "34092it [35:47:50,  3.78s/it, batch: 7 | bound: 66037 | nc: 8 | ncall: 50096842 | eff(%):  0.068 | loglstar: -79.769 < -69.809 < -70.077 | logz: -96.455 +/-  0.288 | stop:  0.885]              \n"
     ]
    },
    {
     "name": "stdout",
     "output_type": "stream",
     "text": [
      "lnEvidence: -96.4403717625225\n"
     ]
    }
   ],
   "source": [
    "q = np.linspace(0.005, 0.3, 70)\n",
    "# losses = np.linspace(0.v5,1.,4)#[0.5,0.,0.75,0.9,1]\n",
    "resolutions = np.array([9.])\n",
    "# datas = []\n",
    "objectives1 = []\n",
    "# results1 = []\n",
    "lnPosts1 = []\n",
    "structures1 = []\n",
    "lnEvidence1 = []\n",
    "\n",
    "objectives2 = []\n",
    "# results2 = []\n",
    "lnPosts2 = []\n",
    "structures2 = []\n",
    "lnEvidence2 = []\n",
    "\n",
    "for resolution in resolutions:\n",
    "    R = model(q, x_err=resolution)\n",
    "    sim_dR = msd.main(sim_q=q,sim_R=R)*10 # was sim_R=R*loss, double counting loss\n",
    "    data = Data1D(data=(q,R,sim_dR))\n",
    "#     datas.append(data)\n",
    "    for i in range(4,5):\n",
    "#         print(\"\\nresolution:\",resolution,\"n layers:\", i)\n",
    "#         objective = gO(data, i, logpExtra=logp_extra)\n",
    "#         fitter = CFitter(objective)\n",
    "#         DNSampler = DynamicNestedSampler(fitter.logl, fitter.priorTransform, fitter.nDim())\n",
    "#         DNSampler.run_nested(dlogz_init=0.05)#0.01)\n",
    "#         result = DNSampler.results\n",
    "#         objectives1.append(objective)\n",
    "#         lnEvidence = result[\"logz\"][-1]\n",
    "#         print(\"thickness limited lnEvidence:\",lnEvidence)\n",
    "#         lnEvidence1.append(lnEvidence)\n",
    "\n",
    "        objective = gO(data, i)\n",
    "        fitter = CFitter(objective)\n",
    "        DNSampler = DynamicNestedSampler(fitter.logl, fitter.priorTransform, fitter.nDim())\n",
    "        DNSampler.run_nested(dlogz_init=0.05)#0.01)\n",
    "        result = DNSampler.results\n",
    "        objectives2.append(objective)\n",
    "        lnEvidence = result[\"logz\"][-1]\n",
    "        print(\"lnEvidence:\",lnEvidence)\n",
    "        lnEvidence2.append(lnEvidence)\n",
    "\n"
   ]
  },
  {
   "cell_type": "code",
   "execution_count": 7,
   "metadata": {},
   "outputs": [],
   "source": [
    "f=open(\"dLVsNLLnEvidence.txt\",\"w+\")\n",
    "f.write(\"limited max thickness ln(evidence):\\n\")\n",
    "for lnEvidence in lnEvidence1:\n",
    "    f.write(str(lnEvidence))\n",
    "f.write(\"\\nnot limited max thickness ln(evidence):\\n\")\n",
    "for lnEvidence in lnEvidence2:\n",
    "    f.write(str(lnEvidence))\n",
    "f.close()"
   ]
  },
  {
   "cell_type": "code",
   "execution_count": 8,
   "metadata": {},
   "outputs": [],
   "source": [
    "def toArray(line,n,m=-1):\n",
    "    array=line.reshape((n,m))\n",
    "    return array\n",
    "\n",
    "def meshGraph(line, xs, ys, xlabel=\"\", ylabel=\"\", title=\"\",printType=\"\", figI=0):\n",
    "    #resolutions = [1.,3.,7.,9.]\n",
    "    #dRScaleBys = [5,10,15,20]\n",
    "    ha_s = [\"left\", \"center\", \"center\", \"right\"]\n",
    "\n",
    "    print(printType,line)#\"not thickness limited ln(post):\",line)\n",
    "    n, m = len(xs), len(ys)\n",
    "    zs = toArray(line,m,n)\n",
    "#     zs= np.array(lnPosts1).reshape(len(xs), len(ys))\n",
    "    plt.figure(figI)\n",
    "    figI+=1\n",
    "    plt.contour(xs,ys,zs,alpha=0.5);\n",
    "    plt.contourf(xs,ys,zs,alpha=0.3);\n",
    "    plt.colorbar();\n",
    "    for i in range(len(xs)):\n",
    "        for j in range(len(ys)):\n",
    "            plt.scatter(xs[i],ys[j],c=\"red\",marker=\"x\");\n",
    "            ha = ha_s[i]\n",
    "            plt.annotate(\"%.3f\"%zs[j][i],(xs[i],ys[j]),\n",
    "                        horizontalalignment=ha, fontsize=\"small\", verticalalignment='bottom')\n",
    "    # for x in dRScaleBys:\n",
    "    #     for y in resolutions:\n",
    "    #         plt.scatter(x,y,c=\"red\",marker=\"x\");\n",
    "    plt.ylabel(ylabel);#\"dq\");\n",
    "    plt.xlabel(xlabel);#\"dR scaled by\");\n",
    "    plt.title(title);#\"thickness limited contour plot of ln(evidence) for dq vs dR scaled by\");\n",
    "    plt.tight_layout();\n",
    "    plt.show();\n",
    "    return figI"
   ]
  },
  {
   "cell_type": "markdown",
   "metadata": {},
   "source": [
    "# Corrected"
   ]
  },
  {
   "cell_type": "code",
   "execution_count": 12,
   "metadata": {},
   "outputs": [
    {
     "name": "stdout",
     "output_type": "stream",
     "text": [
      "thickness limited contour plot of ln(evidence) for layers vs dq [-2138.4038612   -234.86000113  -173.18861293  -174.26751842\n",
      " -1955.49828719   -59.86366147   -10.91114164   -11.33571912\n",
      " -1818.47329218    68.62163329    90.74089744    89.2876641\n",
      " -1855.99090275    13.04800373    34.57502861    41.92321263\n",
      " -1994.8733284   -154.82456441  -114.49061474   -96.7036977 ]\n"
     ]
    },
    {
     "data": {
      "image/png": "[encoded data removed]",
      "text/plain": [
       "<Figure size 432x288 with 2 Axes>"
      ]
     },
     "metadata": {
      "needs_background": "light"
     },
     "output_type": "display_data"
    },
    {
     "data": {
      "text/plain": [
       "1"
      ]
     },
     "execution_count": 12,
     "metadata": {},
     "output_type": "execute_result"
    }
   ],
   "source": [
    "# line = np.array([-22028.153704017514, -21411.499726942773, -20799.212681368404, -20710.241902463604, -8527.26418299856, -7092.652657222519, -6987.757049967671, -6968.409004941244, -2826.8961462523416, -1294.463309916167, -1287.9091175952526, -1289.8879661963538, -1818.411075758853, 72.97116284294752, 91.13733292229811, 89.57239055379468])\n",
    "nLayers = [i for i in range(1,5)]\n",
    "resolutions=[1.,3., 5.,7.,9.]\n",
    "ylabel=\"dq\"\n",
    "xlabel=\"layers\"\n",
    "title=\"thickness limited contour plot of ln(evidence) for layers vs dq\"\n",
    "lnEvidence1 =np.array([ -2138.4038611988913,-234.86000113353825, -173.18861293092868, -174.26751841938466,\n",
    "                      -1955.4982871915593, -59.86366147278026, -10.91114163548692, -11.335719123126482,\n",
    "                      -1818.4732921763934, 68.62163328826037, 90.74089744021738, 89.28766410048205, \n",
    "                      -1855.9909027469307, 13.048003728514862, 34.57502861100475, 41.92321263070505,\n",
    "                      -1994.87332839974, -154.8245644057317, -114.49061473995881, -96.70369770372983])\n",
    "meshGraph(lnEvidence1, nLayers, resolutions, xlabel, ylabel,\"thickness limited ln(post): \", title)\n",
    "\n",
    "# line=np.array([-22028.184688274174, -21411.130122513667, -20803.32327289713, -20710.614379519593, -8527.527221022197, -7092.5936011602935, -6987.740416257086, -6968.700627526253, -2826.7346983527063, -1294.5262220939194, -1287.7645545727062, -1289.860225072015, -1818.2508356726373, 72.29432028604006, 91.11035384560891, 89.53605708217408])\n",
    "# title=\"not thickness limited contour plot of ln(evidence) for layers vs dq\"\n",
    "# meshGraph(lnEvidence2, nLayers, resolutions, xlabel, ylabel,\"not thickness limited ln(post): \", title)\n"
   ]
  },
  {
   "cell_type": "markdown",
   "metadata": {},
   "source": [
    "# previous version"
   ]
  },
  {
   "cell_type": "code",
   "execution_count": null,
   "metadata": {
    "scrolled": false
   },
   "outputs": [],
   "source": [
    "%%time\n",
    "\n",
    "ha_s = [\"left\", \"center\", \"center\", \"right\"]\n",
    "\n",
    "print(lnEvidence1)\n",
    "lenLosses = len(losses)\n",
    "nLayers = [i for i in range(1,5)]\n",
    "\n",
    "z = np.array(lnEvidence1).reshape((-1,lenLosses))\n",
    "\n",
    "# plt.figure(figI);\n",
    "# figI+=1\n",
    "plt.contour(losses,nLayers,z,alpha=0.5);\n",
    "plt.contourf(losses,nLayers,z,alpha=0.3);\n",
    "plt.colorbar();\n",
    "for i in range(len(losses)):#x in losses:\n",
    "    for j in range(len(nLayers)): #y in nLayers:\n",
    "        plt.scatter(losses[i],nLayers[j],c=\"red\",marker=\"x\");\n",
    "        ha = ha_s[i]\n",
    "        plt.annotate(\"%.2f\"%z[j][i],(losses[i],nLayers[j]),\n",
    "                    horizontalalignment=ha, fontsize=\"small\", verticalalignment='bottom')\n",
    "plt.ylabel(\"layers\");\n",
    "plt.xlabel(\"1-loss\");\n",
    "plt.title(\"thickness limited contour plot of ln(evidence) for layers vs loss\");\n",
    "plt.tight_layout();\n",
    "plt.show();\n",
    "#--------\n",
    "\n",
    "print(lnEvidence2)\n",
    "lenLosses = len(losses)\n",
    "nLayers = [i for i in range(1,5)]\n",
    "\n",
    "z = np.array(lnEvidence2).reshape((-1,lenLosses))\n",
    "\n",
    "# plt.figure(figI);\n",
    "# figI+=1\n",
    "plt.contour(losses,nLayers,z,alpha=0.5);\n",
    "plt.contourf(losses,nLayers,z,alpha=0.3);\n",
    "plt.colorbar();\n",
    "# for x in losses:\n",
    "#     for y in nLayers:\n",
    "#         plt.scatter(x,y,c=\"red\",marker=\"x\");\n",
    "\n",
    "for i in range(len(losses)):#x in losses:\n",
    "    for j in range(len(nLayers)): #y in nLayers:\n",
    "        plt.scatter(losses[i],nLayers[j],c=\"red\",marker=\"x\");\n",
    "        ha = ha_s[i]\n",
    "        plt.annotate(\"%.2f\"%z[j][i],(losses[i],nLayers[j]),\n",
    "                    horizontalalignment=ha, fontsize=\"small\", verticalalignment='bottom')\n",
    "plt.ylabel(\"layers\");\n",
    "plt.xlabel(\"1-loss\");\n",
    "plt.title(\"not thickness limited contour plot of ln(evidence) for layers vs 1-loss\");\n",
    "plt.tight_layout();\n",
    "plt.show();"
   ]
  },
  {
   "cell_type": "code",
   "execution_count": null,
   "metadata": {
    "scrolled": false
   },
   "outputs": [],
   "source": [
    "# for objective1,objective2 in zip(objectives1,objectives2):\n",
    "#     plt.figure(figI)\n",
    "#     figI+=1\n",
    "\n",
    "# #     plt.subplot(2,2,1).set_title(\"data plotted for limited max thickness\")\n",
    "#     fig, ax = objective1.plot()\n",
    "#     plt.figure(figI)\n",
    "#     figI+=1\n",
    "# #     plt.subplot(2,2,2).set_title(\"structure plotted for limited max thickness\")\n",
    "#     plt.plot(*objective1.model.structure.sld_profile())\n",
    "#     plt.ylabel('SLD /$10^{-6} \\AA^{-2}$')\n",
    "#     plt.xlabel('distance / $\\AA$');\n",
    "#     plt.figure(figI)\n",
    "#     figI+=1\n",
    "\n",
    "# #     plt.subplot(2,2,3).set_title(\"data plotted for limited max thickness\")\n",
    "#     fig, ax = objective2.plot()\n",
    "#     plt.figure(figI)\n",
    "#     figI+=1\n",
    "# #     plt.subplot(2,2,4).set_title(\"structure plotted for limited max thickness\")\n",
    "#     plt.plot(*objective2.model.structure.sld_profile())\n",
    "#     plt.ylabel('SLD /$10^{-6} \\AA^{-2}$')\n",
    "#     plt.xlabel('distance / $\\AA$');\n",
    "\n",
    "# #     plt.tight_layout();\n"
   ]
  }
 ],
 "metadata": {
  "kernelspec": {
   "display_name": "Python 3",
   "language": "python",
   "name": "python3"
  }
 },
 "nbformat": 4,
 "nbformat_minor": 2
}
